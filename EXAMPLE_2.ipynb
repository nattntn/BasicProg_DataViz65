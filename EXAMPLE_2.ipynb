{
  "nbformat": 4,
  "nbformat_minor": 0,
  "metadata": {
    "colab": {
      "provenance": [],
      "authorship_tag": "ABX9TyNxg5L7xwD20JwYT6/M1ul0",
      "include_colab_link": true
    },
    "kernelspec": {
      "name": "python3",
      "display_name": "Python 3"
    },
    "language_info": {
      "name": "python"
    }
  },
  "cells": [
    {
      "cell_type": "markdown",
      "metadata": {
        "id": "view-in-github",
        "colab_type": "text"
      },
      "source": [
        "<a href=\"https://colab.research.google.com/github/natthanich/BasicProg_DataViz65/blob/main/EXAMPLE_2.ipynb\" target=\"_parent\"><img src=\"https://colab.research.google.com/assets/colab-badge.svg\" alt=\"Open In Colab\"/></a>"
      ]
    },
    {
      "cell_type": "markdown",
      "source": [
        "HW 3\n",
        "1. สร้าง array ที่เป็นต้น Christmas\n",
        "2. Slice เลข 1 ออกมาจาก array HW3 ด้วยการ slice แค่ครั้งเดียว"
      ],
      "metadata": {
        "id": "AJoUpVV3ufAX"
      }
    },
    {
      "cell_type": "code",
      "source": [
        "HW3 = np.zeros((10,10))\n",
        "HW3"
      ],
      "metadata": {
        "colab": {
          "base_uri": "https://localhost:8080/"
        },
        "id": "_JX1aX7ZugY2",
        "outputId": "fef96317-2088-4164-c5a5-8f709f9d86c3"
      },
      "execution_count": null,
      "outputs": [
        {
          "output_type": "execute_result",
          "data": {
            "text/plain": [
              "array([[0., 0., 0., 0., 0., 0., 0., 0., 0., 0.],\n",
              "       [0., 0., 0., 0., 0., 0., 0., 0., 0., 0.],\n",
              "       [0., 0., 0., 0., 0., 0., 0., 0., 0., 0.],\n",
              "       [0., 0., 0., 0., 0., 0., 0., 0., 0., 0.],\n",
              "       [0., 0., 0., 0., 0., 0., 0., 0., 0., 0.],\n",
              "       [0., 0., 0., 0., 0., 0., 0., 0., 0., 0.],\n",
              "       [0., 0., 0., 0., 0., 0., 0., 0., 0., 0.],\n",
              "       [0., 0., 0., 0., 0., 0., 0., 0., 0., 0.],\n",
              "       [0., 0., 0., 0., 0., 0., 0., 0., 0., 0.],\n",
              "       [0., 0., 0., 0., 0., 0., 0., 0., 0., 0.]])"
            ]
          },
          "metadata": {},
          "execution_count": 103
        }
      ]
    },
    {
      "cell_type": "code",
      "source": [
        "HW3[0,5] = 444\n",
        "HW3[1,5] = 111\n",
        "HW3[2,4:7] = 111\n",
        "HW3[3,3:8] = 111\n",
        "HW3[4,2:9] = 111\n",
        "HW3[5,3:8] = 111\n",
        "HW3[6,3:8] = 111\n",
        "HW3[7,2:9] = 111\n",
        "HW3[8,4:7] = 888\n",
        "HW3[9,4:7] = 888\n",
        "HW3[0,1] = 99\n",
        "HW3[1,1] = 99\n",
        "HW3[2,1] = 99\n",
        "HW3[1,0] = 99\n",
        "HW3[1,2] = 99"
      ],
      "metadata": {
        "id": "yDc8xUcZtKAb"
      },
      "execution_count": null,
      "outputs": []
    },
    {
      "cell_type": "code",
      "source": [
        "HW3"
      ],
      "metadata": {
        "colab": {
          "base_uri": "https://localhost:8080/"
        },
        "id": "8V9tr45_t0Bz",
        "outputId": "fa915f10-0093-41c4-d686-67dee594e80d"
      },
      "execution_count": null,
      "outputs": [
        {
          "output_type": "execute_result",
          "data": {
            "text/plain": [
              "array([[  0.,  99.,   0.,   0.,   0., 444.,   0.,   0.,   0.,   0.],\n",
              "       [ 99.,  99.,  99.,   0.,   0., 111.,   0.,   0.,   0.,   0.],\n",
              "       [  0.,  99.,   0.,   0., 111., 111., 111.,   0.,   0.,   0.],\n",
              "       [  0.,   0.,   0., 111., 111., 111., 111., 111.,   0.,   0.],\n",
              "       [  0.,   0., 111., 111., 111., 111., 111., 111., 111.,   0.],\n",
              "       [  0.,   0.,   0., 111., 111., 111., 111., 111.,   0.,   0.],\n",
              "       [  0.,   0.,   0., 111., 111., 111., 111., 111.,   0.,   0.],\n",
              "       [  0.,   0., 111., 111., 111., 111., 111., 111., 111.,   0.],\n",
              "       [  0.,   0.,   0.,   0., 888., 888., 888.,   0.,   0.,   0.],\n",
              "       [  0.,   0.,   0.,   0., 888., 888., 888.,   0.,   0.,   0.]])"
            ]
          },
          "metadata": {},
          "execution_count": 147
        }
      ]
    },
    {
      "cell_type": "code",
      "source": [
        "# สร้าง array ที่เป็นต้น Christmas"
      ],
      "metadata": {
        "id": "IAj7hkEwtO5k"
      },
      "execution_count": null,
      "outputs": []
    },
    {
      "cell_type": "code",
      "source": [
        "#Slice เลข 1 ออกมาจาก array HW3 ด้วยการ slice แค่ครั้งเดียว\n",
        "HW3[::4,2] = 1\n",
        "HW3[::4,4] = 1\n",
        "HW3[::4,6] = 1\n",
        "HW3[::4,8] = 1\n",
        "HW3"
      ],
      "metadata": {
        "colab": {
          "base_uri": "https://localhost:8080/"
        },
        "id": "uO9X_klKwEYM",
        "outputId": "9c16771a-46ac-4447-daf6-7be909a8e019"
      },
      "execution_count": null,
      "outputs": [
        {
          "output_type": "execute_result",
          "data": {
            "text/plain": [
              "array([[0., 0., 1., 0., 1., 0., 1., 0., 1., 0.],\n",
              "       [0., 0., 0., 0., 0., 0., 0., 0., 0., 0.],\n",
              "       [0., 0., 0., 0., 0., 0., 0., 0., 0., 0.],\n",
              "       [0., 0., 0., 0., 0., 0., 0., 0., 0., 0.],\n",
              "       [0., 0., 1., 0., 1., 0., 1., 0., 1., 0.],\n",
              "       [0., 0., 0., 0., 0., 0., 0., 0., 0., 0.],\n",
              "       [0., 0., 0., 0., 0., 0., 0., 0., 0., 0.],\n",
              "       [0., 0., 0., 0., 0., 0., 0., 0., 0., 0.],\n",
              "       [0., 0., 1., 0., 1., 0., 1., 0., 1., 0.],\n",
              "       [0., 0., 0., 0., 0., 0., 0., 0., 0., 0.]])"
            ]
          },
          "metadata": {},
          "execution_count": 58
        }
      ]
    },
    {
      "cell_type": "code",
      "source": [
        "HW3[::4,2::2]"
      ],
      "metadata": {
        "colab": {
          "base_uri": "https://localhost:8080/"
        },
        "id": "kYkYbMe_smQu",
        "outputId": "761b4d6d-6803-4e09-db10-dda8bbdfbb6e"
      },
      "execution_count": null,
      "outputs": [
        {
          "output_type": "execute_result",
          "data": {
            "text/plain": [
              "array([[1., 1., 1., 1.],\n",
              "       [1., 1., 1., 1.],\n",
              "       [1., 1., 1., 1.]])"
            ]
          },
          "metadata": {},
          "execution_count": 59
        }
      ]
    }
  ]
}
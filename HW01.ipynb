{
  "nbformat": 4,
  "nbformat_minor": 0,
  "metadata": {
    "colab": {
      "provenance": [],
      "authorship_tag": "ABX9TyNbxPv4q626fDsNWrUfiIrg",
      "include_colab_link": true
    },
    "kernelspec": {
      "name": "python3",
      "display_name": "Python 3"
    },
    "language_info": {
      "name": "python"
    }
  },
  "cells": [
    {
      "cell_type": "markdown",
      "metadata": {
        "id": "view-in-github",
        "colab_type": "text"
      },
      "source": [
        "<a href=\"https://colab.research.google.com/github/natthanich/BasicProg_DataViz65/blob/main/HW01.ipynb\" target=\"_parent\"><img src=\"https://colab.research.google.com/assets/colab-badge.svg\" alt=\"Open In Colab\"/></a>"
      ]
    },
    {
      "cell_type": "markdown",
      "source": [
        "HW1 \n",
        "\n",
        "เขียน function \n",
        "แสดงความต่างของเวลา (Quiz1)\n",
        "โดย input อยู่ในรูปแบบ ```'09:11:50 - 12:30:15'```\n",
        "\n",
        "และทดลองรัน\n",
        "\n",
        "* '09:11:50 - 12:30:15'\n",
        "* '13:41:07 - 20:00:18'\n",
        "* '00:00:00 - 23:59:59'"
      ],
      "metadata": {
        "id": "3yUVmRymTay0"
      }
    },
    {
      "cell_type": "markdown",
      "source": [
        "```python\n",
        "def function_name( input_x )  :\n",
        "    return output_y\n",
        "```"
      ],
      "metadata": {
        "id": "UuvRNVAVwDUT"
      }
    },
    {
      "cell_type": "code",
      "source": [
        "def add_time(time) :\n",
        "  sp_time = time.split('-')\n",
        "  start_time =  sp_time[0]\n",
        "  sp_start_time = start_time.split(':')\n",
        "  end_time = sp_time[1]\n",
        "  sp_end_time = end_time.split(':')\n",
        "  t1 = (int(sp_start_time[0])*60*60) + (int(sp_start_time[1])*60) + (int(sp_start_time[2]))\n",
        "  t2 = (int(sp_end_time[0])*60*60) + (int(sp_end_time[1])*60) + (int(sp_end_time[2]))\n",
        "  total_sec = t2 - t1\n",
        "  print(f'Time difference is { total_sec:,} seconds')\n",
        "\n",
        "\n",
        "\n",
        "      "
      ],
      "metadata": {
        "id": "p27j21925kTI"
      },
      "execution_count": null,
      "outputs": []
    },
    {
      "cell_type": "code",
      "source": [
        "add_time('09:11:50 - 12:30:15')"
      ],
      "metadata": {
        "colab": {
          "base_uri": "https://localhost:8080/"
        },
        "id": "d8Ete_NTP4ey",
        "outputId": "c33a7089-aa03-4471-cba4-726bc1db9149"
      },
      "execution_count": null,
      "outputs": [
        {
          "output_type": "stream",
          "name": "stdout",
          "text": [
            "Time difference is 11,905 seconds\n"
          ]
        }
      ]
    },
    {
      "cell_type": "code",
      "source": [
        "add_time('13:41:07 - 20:00:18')"
      ],
      "metadata": {
        "colab": {
          "base_uri": "https://localhost:8080/"
        },
        "id": "a5nbP-E7TQgI",
        "outputId": "722d70d5-a927-49e3-ee1a-a8998ded8451"
      },
      "execution_count": null,
      "outputs": [
        {
          "output_type": "stream",
          "name": "stdout",
          "text": [
            "Time difference is 22,751 seconds\n"
          ]
        }
      ]
    },
    {
      "cell_type": "code",
      "source": [
        "add_time('00:00:00 - 23:59:59')"
      ],
      "metadata": {
        "colab": {
          "base_uri": "https://localhost:8080/"
        },
        "id": "PjBHZId9TQuZ",
        "outputId": "fd830735-1fa9-4ef1-c68d-3ee80b5cc9ab"
      },
      "execution_count": null,
      "outputs": [
        {
          "output_type": "stream",
          "name": "stdout",
          "text": [
            "Time difference is 86,399 seconds\n"
          ]
        }
      ]
    },
    {
      "cell_type": "markdown",
      "source": [
        "HW1 \n",
        "\n",
        "เขียน function \n",
        "แสดงความต่างของเวลา (Quiz1)\n",
        "โดย input อยู่ในรูปแบบ ```'09:11:50 - 12:30:15'```\n",
        "\n",
        "และทดลองรัน\n",
        "\n",
        "* '09:11:50 - 12:30:15'\n",
        "* '13:41:07 - 20:00:18'\n",
        "* '00:00:00 - 23:59:59'"
      ],
      "metadata": {
        "id": "mOmZJvXYgQ1q"
      }
    },
    {
      "cell_type": "code",
      "source": [
        "input = '09:11:50 - 12:30:15'\n",
        "input"
      ],
      "metadata": {
        "id": "EawdJL1URiHe",
        "outputId": "385275b4-465c-4e9f-d08d-b3d07cb5c9ee",
        "colab": {
          "base_uri": "https://localhost:8080/",
          "height": 57
        }
      },
      "execution_count": null,
      "outputs": [
        {
          "output_type": "execute_result",
          "data": {
            "text/plain": [
              "'09:11:50 - 12:30:15'"
            ],
            "application/vnd.google.colaboratory.intrinsic+json": {
              "type": "string"
            }
          },
          "metadata": {},
          "execution_count": 1
        }
      ]
    },
    {
      "cell_type": "code",
      "source": [
        "input_split = input.split(' - ')\n",
        "input_split"
      ],
      "metadata": {
        "id": "MwcI8rZZRqdM",
        "outputId": "af43de04-2e40-4277-fe9c-934613905397",
        "colab": {
          "base_uri": "https://localhost:8080/"
        }
      },
      "execution_count": null,
      "outputs": [
        {
          "output_type": "execute_result",
          "data": {
            "text/plain": [
              "['09:11:50', '12:30:15']"
            ]
          },
          "metadata": {},
          "execution_count": 2
        }
      ]
    },
    {
      "cell_type": "code",
      "source": [
        "starttimeSP = input_split[0].split(':')\n",
        "endtimeSP = input_split[-1].split(':')\n",
        "print(starttimeSP,endtimeSP,sep='\\n')"
      ],
      "metadata": {
        "id": "JkLfvGOXR8JX",
        "outputId": "db15176b-2728-43d5-d7e6-16ab4f679036",
        "colab": {
          "base_uri": "https://localhost:8080/"
        }
      },
      "execution_count": null,
      "outputs": [
        {
          "output_type": "stream",
          "name": "stdout",
          "text": [
            "['09', '11', '50']\n",
            "['12', '30', '15']\n"
          ]
        }
      ]
    },
    {
      "cell_type": "code",
      "source": [
        "def calculate_time(input):\n",
        "    input_split = input.split(' - ')\n",
        "    starttimeSP = input_split[0].split(':')\n",
        "    endtimeSP = input_split[-1].split(':')\n",
        "\n",
        "    starttime = 3600*int(starttimeSP[0]) + 60*int(starttimeSP[1]) + int(starttimeSP[2])\n",
        "    endtime = 3600*int(endtimeSP[0]) + 60*int(endtimeSP[1]) + int(endtimeSP[2])\n",
        "\n",
        "    print(f'ระยะเวลาระหว่าง {input_split[0]} และ {input_split[1]} ห่างกันเท่ากับ {endtime-starttime:,} วินาที')"
      ],
      "metadata": {
        "id": "S36Kbh1NR8Rx"
      },
      "execution_count": null,
      "outputs": []
    },
    {
      "cell_type": "code",
      "source": [
        "calculate_time('09:11:50 - 12:30:15')"
      ],
      "metadata": {
        "id": "zFalER0iTCjI",
        "outputId": "544cee1b-1d89-42e6-f7df-6ec3ca659b28",
        "colab": {
          "base_uri": "https://localhost:8080/"
        }
      },
      "execution_count": null,
      "outputs": [
        {
          "output_type": "stream",
          "name": "stdout",
          "text": [
            "ระยะเวลาระหว่าง 09:11:50 และ 12:30:15 ห่างกันเท่ากับ 11,905 วินาที\n"
          ]
        }
      ]
    },
    {
      "cell_type": "code",
      "source": [
        "calculate_time('13:41:07 - 20:00:18')"
      ],
      "metadata": {
        "id": "hxydNR4yTOIH",
        "outputId": "35af190f-7e0a-4caf-9459-c791b6a5290c",
        "colab": {
          "base_uri": "https://localhost:8080/"
        }
      },
      "execution_count": null,
      "outputs": [
        {
          "output_type": "stream",
          "name": "stdout",
          "text": [
            "ระยะเวลาระหว่าง 13:41:07 และ 20:00:18 ห่างกันเท่ากับ 22,751 วินาที\n"
          ]
        }
      ]
    }
  ]
}
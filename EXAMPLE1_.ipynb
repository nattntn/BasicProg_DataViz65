{
  "nbformat": 4,
  "nbformat_minor": 0,
  "metadata": {
    "colab": {
      "provenance": [],
      "authorship_tag": "ABX9TyMX7+gQwZeA3YrCzX5U1HVu",
      "include_colab_link": true
    },
    "kernelspec": {
      "name": "python3",
      "display_name": "Python 3"
    },
    "language_info": {
      "name": "python"
    }
  },
  "cells": [
    {
      "cell_type": "markdown",
      "metadata": {
        "id": "view-in-github",
        "colab_type": "text"
      },
      "source": [
        "<a href=\"https://colab.research.google.com/github/natthanich/BasicProg_DataViz65/blob/main/EXAMPLE1_.ipynb\" target=\"_parent\"><img src=\"https://colab.research.google.com/assets/colab-badge.svg\" alt=\"Open In Colab\"/></a>"
      ]
    },
    {
      "cell_type": "markdown",
      "source": [
        "### EXAMPLE คำนวนเวลาเป็นวินาทีของเวลาต่อไปนี้โดยใช้คำสั่ง split() ช่วย (print ออกมาให้สวยงาม)\n",
        "- 12:30:15\n",
        "- 13:41:07\n",
        "- 09:11:50\n",
        "- 21:30:15\n",
        "- 03:10:15"
      ],
      "metadata": {
        "id": "7ZQoVrcxdc3y"
      }
    },
    {
      "cell_type": "code",
      "source": [
        "# 12:30:15\n",
        "A =  '12:30:15'\n",
        "Sp_a = A.split(':')\n",
        "print(Sp_a)\n",
        "total_sec = (int(Sp_a[0])*60*60) + (int(Sp_a[1])*60) + int(Sp_a[2])\n",
        "print(total_sec)\n",
        "print(f'เวลา {A} สามารถแปลงเป็นหน่วยวินาทีได้ {total_sec:,} วินาที')"
      ],
      "metadata": {
        "colab": {
          "base_uri": "https://localhost:8080/"
        },
        "id": "lYZv3P-1YOIn",
        "outputId": "4657b0d9-7c42-4b57-97a8-3ac6b9b5db2b"
      },
      "execution_count": 6,
      "outputs": [
        {
          "output_type": "stream",
          "name": "stdout",
          "text": [
            "['12', '30', '15']\n",
            "45015\n",
            "เวลา 12:30:15 สามารถแปลงเป็นหน่วยวินาทีได้ 45,015 วินาที\n"
          ]
        }
      ]
    },
    {
      "cell_type": "code",
      "source": [
        "# 13:41:07\n",
        "B = '13:41:07'\n",
        "Sp_b = B.split(':')\n",
        "print(Sp_b)\n",
        "total_sec = (int(Sp_b[0])*60*60) + (int(Sp_b[1])*60) + int(Sp_b[2])\n",
        "print(total_sec)\n",
        "print(f'เวลา {B} สามารถแปลงเป็นหน่วยวินาทีได้ {total_sec:,} วินาที')"
      ],
      "metadata": {
        "colab": {
          "base_uri": "https://localhost:8080/"
        },
        "id": "xfScNqFeZVx8",
        "outputId": "7d6927bb-811c-45c9-c494-b87d6d2b6325"
      },
      "execution_count": 8,
      "outputs": [
        {
          "output_type": "stream",
          "name": "stdout",
          "text": [
            "['13', '41', '07']\n",
            "49267\n",
            "เวลา 13:41:07 สามารถแปลงเป็นหน่วยวินาทีได้ 49,267 วินาที\n"
          ]
        }
      ]
    },
    {
      "cell_type": "code",
      "source": [
        "# 09:11:50\n",
        "C = '09:11:50'\n",
        "Sp_c = C.split(':')\n",
        "print(Sp_c)\n",
        "total_sec = (int(Sp_c[0])*60*60) + (int(Sp_c[1])*60) + int(Sp_c[2])\n",
        "print(total_sec)\n",
        "print(f'เวลา {C} สามารถแปลงเป็นหน่วยวินาทีได้ {total_sec:,} วินาที')"
      ],
      "metadata": {
        "colab": {
          "base_uri": "https://localhost:8080/"
        },
        "id": "N65k_2PAZxKI",
        "outputId": "a7b3cbc0-e111-4309-e10e-d0c8d3917123"
      },
      "execution_count": 9,
      "outputs": [
        {
          "output_type": "stream",
          "name": "stdout",
          "text": [
            "['09', '11', '50']\n",
            "33110\n",
            "เวลา 09:11:50 สามารถแปลงเป็นหน่วยวินาทีได้ 33,110 วินาที\n"
          ]
        }
      ]
    },
    {
      "cell_type": "code",
      "source": [
        "# 21:30:15\n",
        "D = '21:30:15'\n",
        "Sp_d = D.split(':')\n",
        "print(Sp_d)\n",
        "total_sec = (int(Sp_d[0])*60*60) + (int(Sp_d[1])*60) + int(Sp_d[2])\n",
        "print(total_sec)\n",
        "print(f'เวลา {D} สามารถแปลงเป็นหน่วยวินาทีได้ {total_sec:,} วินาที')"
      ],
      "metadata": {
        "colab": {
          "base_uri": "https://localhost:8080/"
        },
        "id": "6Ko83FltaAbd",
        "outputId": "56ea2d5d-deb6-4e8a-b077-255bc3014c69"
      },
      "execution_count": 10,
      "outputs": [
        {
          "output_type": "stream",
          "name": "stdout",
          "text": [
            "['21', '30', '15']\n",
            "77415\n",
            "เวลา 21:30:15 สามารถแปลงเป็นหน่วยวินาทีได้ 77,415 วินาที\n"
          ]
        }
      ]
    },
    {
      "cell_type": "code",
      "source": [
        "# 03:10:15\n",
        "E = '03:10:15'\n",
        "Sp_e = E.split(':')\n",
        "print(Sp_e)\n",
        "total_sec = (int(Sp_e[0])*60*60) + (int(Sp_e[1])*60) + int(Sp_e[2])\n",
        "print(total_sec)\n",
        "print(f'เวลา {E} สามารถแปลงเป็นหน่วยวินาทีได้ {total_sec:,} วินาที')"
      ],
      "metadata": {
        "colab": {
          "base_uri": "https://localhost:8080/"
        },
        "id": "jBVH2JCNaDD1",
        "outputId": "90cf60b9-0034-41fe-9a7c-8389cf59e037"
      },
      "execution_count": 11,
      "outputs": [
        {
          "output_type": "stream",
          "name": "stdout",
          "text": [
            "['03', '10', '15']\n",
            "11415\n",
            "เวลา 03:10:15 สามารถแปลงเป็นหน่วยวินาทีได้ 11,415 วินาที\n"
          ]
        }
      ]
    }
  ]
}
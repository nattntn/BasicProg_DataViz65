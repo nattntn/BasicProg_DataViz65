{
  "nbformat": 4,
  "nbformat_minor": 0,
  "metadata": {
    "colab": {
      "provenance": [],
      "authorship_tag": "ABX9TyM8l8yVXvNjhVDO0L/Oljeb",
      "include_colab_link": true
    },
    "kernelspec": {
      "name": "python3",
      "display_name": "Python 3"
    },
    "language_info": {
      "name": "python"
    }
  },
  "cells": [
    {
      "cell_type": "markdown",
      "metadata": {
        "id": "view-in-github",
        "colab_type": "text"
      },
      "source": [
        "<a href=\"https://colab.research.google.com/github/natthanich/BasicProg_DataViz65/blob/main/EXAMPLE_3.ipynb\" target=\"_parent\"><img src=\"https://colab.research.google.com/assets/colab-badge.svg\" alt=\"Open In Colab\"/></a>"
      ]
    },
    {
      "cell_type": "markdown",
      "source": [
        "# HW\n",
        "เขียน function ตัดเกรด โดยที่ input เป็นคะแนน(0-100) , output เป็นเกรด (F-A) หรือ 'ไม่สามารถตัดเกรดได้'\n",
        "\n",
        "วนลูปตัดเกรด input = [1,50,65,90,101,-5,49,'ก',80]\n",
        "\n",
        "กำหนด\n",
        "\n",
        "*  ถ้าคะแนนอยู่ระหว่างมากกว่าหรือเท่ากับ  0  แต่น้อยกว่า 50 จะได้เกรด F\n",
        "*  ถ้าคะแนนอยู่ระหว่างมากกว่าหรือเท่ากับ 50 แต่น้อยกว่า 55 จะได้เกรด D\n",
        "*  ถ้าคะแนนอยู่ระหว่างมากกว่าหรือเท่ากับ 55 แต่น้อยกว่า 60 จะได้เกรด D+\n",
        "*  ถ้าคะแนนอยู่ระหว่างมากกว่าหรือเท่ากับ 60 แต่น้อยกว่า 65 จะได้เกรด C\n",
        "*  ถ้าคะแนนอยู่ระหว่างมากกว่าหรือเท่ากับ 65 แต่น้อยกว่า 70 จะได้เกรด C+\n",
        "*  ถ้าคะแนนอยู่ระหว่างมากกว่าหรือเท่ากับ 70 แต่น้อยกว่า 75 จะได้เกรด B\n",
        "*  ถ้าคะแนนอยู่ระหว่างมากกว่าหรือเท่ากับ 75 แต่น้อยกว่า 80 จะได้เกรด B+\n",
        "*  ถ้าคะแนนอยู่ระหว่างมากกว่าหรือเท่ากับ 80  จะได้เกรด A\n",
        "*  ถ้าคะแนนไม่อยู่ในช่วง 0-100 ให้ return 'ไม่สามารถตัดเกรดได้'"
      ],
      "metadata": {
        "id": "jgF2Urtylpqu"
      }
    },
    {
      "cell_type": "code",
      "source": [
        "input = [1,50,65,90,101,-5,49,'ก',80]"
      ],
      "metadata": {
        "id": "xUUhDR3GldrZ"
      },
      "execution_count": null,
      "outputs": []
    },
    {
      "cell_type": "code",
      "source": [
        "'ก' is not int()"
      ],
      "metadata": {
        "id": "5uE-XFrS_oKK",
        "outputId": "f193747e-7510-4770-a6f5-44279fd1929c",
        "colab": {
          "base_uri": "https://localhost:8080/"
        }
      },
      "execution_count": null,
      "outputs": [
        {
          "output_type": "execute_result",
          "data": {
            "text/plain": [
              "True"
            ]
          },
          "metadata": {},
          "execution_count": 3
        }
      ]
    },
    {
      "cell_type": "code",
      "source": [
        "type('')"
      ],
      "metadata": {
        "id": "VpLRCk6P_-S9",
        "outputId": "f88287a7-f2d1-4caf-f5ab-a36bf299f15b",
        "colab": {
          "base_uri": "https://localhost:8080/"
        }
      },
      "execution_count": null,
      "outputs": [
        {
          "output_type": "execute_result",
          "data": {
            "text/plain": [
              "str"
            ]
          },
          "metadata": {},
          "execution_count": 4
        }
      ]
    },
    {
      "cell_type": "code",
      "source": [
        "def grading(x):\n",
        "    if type(x) is int:  \n",
        "        if x < 0:\n",
        "            y =f'คะแนน {x} ไม่สามารถตัดเกรดได้'\n",
        "        elif x < 50:\n",
        "            y = f'คะแนน {x} ได้เกรด F'\n",
        "        elif x < 55:\n",
        "            y = f'คะแนน {x} ได้เกรด D'\n",
        "        elif x < 60:\n",
        "            y = f'คะแนน {x} ได้เกรด D+'\n",
        "        elif x < 65:\n",
        "            y = f'คะแนน {x} ได้เกรด C'\n",
        "        elif x < 70:\n",
        "            y = f'คะแนน {x} ได้เกรด C+'\n",
        "        elif x < 75:\n",
        "            y = f'คะแนน {x} ได้เกรด B'\n",
        "        elif x < 80:\n",
        "            y = f'คะแนน {x} ได้เกรด B+'\n",
        "        elif x <= 100:\n",
        "            y = f'คะแนน {x} ได้เกรด A'\n",
        "        else:\n",
        "            y =f'คะแนน {x} ไม่สามารถตัดเกรดได้'\n",
        "    else:\n",
        "        y =f'คะแนน {x} ไม่สามารถตัดเกรดได้'\n",
        "    \n",
        "    return y"
      ],
      "metadata": {
        "id": "NlkxvQbD_cSO"
      },
      "execution_count": null,
      "outputs": []
    },
    {
      "cell_type": "code",
      "source": [
        "type(1) is int"
      ],
      "metadata": {
        "id": "dx_p-DkvCcnL",
        "outputId": "2b43218f-c5f0-4651-ba65-b2aa2fb8ef5b",
        "colab": {
          "base_uri": "https://localhost:8080/"
        }
      },
      "execution_count": null,
      "outputs": [
        {
          "output_type": "execute_result",
          "data": {
            "text/plain": [
              "True"
            ]
          },
          "metadata": {},
          "execution_count": 21
        }
      ]
    },
    {
      "cell_type": "code",
      "source": [
        "grading(1)"
      ],
      "metadata": {
        "id": "1Mj4zb4LCSB6",
        "outputId": "b3661475-97f1-4899-a864-483f12bca5ee",
        "colab": {
          "base_uri": "https://localhost:8080/",
          "height": 57
        }
      },
      "execution_count": null,
      "outputs": [
        {
          "output_type": "execute_result",
          "data": {
            "application/vnd.google.colaboratory.intrinsic+json": {
              "type": "string"
            },
            "text/plain": [
              "'คะแนน 1 ได้เกรด F'"
            ]
          },
          "metadata": {},
          "execution_count": 25
        }
      ]
    },
    {
      "cell_type": "code",
      "source": [
        "for i in input:\n",
        "    print(grading(i))"
      ],
      "metadata": {
        "id": "p_cE3Je8Bueg",
        "outputId": "9fd0acec-7011-47ec-efff-dc0f10db9369",
        "colab": {
          "base_uri": "https://localhost:8080/"
        }
      },
      "execution_count": null,
      "outputs": [
        {
          "output_type": "stream",
          "name": "stdout",
          "text": [
            "คะแนน 1 ได้เกรด F\n",
            "คะแนน 50 ได้เกรด D\n",
            "คะแนน 65 ได้เกรด C+\n",
            "คะแนน 90 ได้เกรด A\n",
            "คะแนน 101 ไม่สามารถตัดเกรดได้\n",
            "คะแนน -5 ไม่สามารถตัดเกรดได้\n",
            "คะแนน 49 ได้เกรด F\n",
            "คะแนน ก ไม่สามารถตัดเกรดได้\n",
            "คะแนน 80 ได้เกรด A\n"
          ]
        }
      ]
    }
  ]
}